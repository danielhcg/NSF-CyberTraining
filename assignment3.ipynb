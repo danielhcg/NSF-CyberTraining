{
  "nbformat": 4,
  "nbformat_minor": 0,
  "metadata": {
    "colab": {
      "provenance": [],
      "authorship_tag": "ABX9TyNfFHclGkNQv0drkEXX5iWC",
      "include_colab_link": true
    },
    "kernelspec": {
      "name": "python3",
      "display_name": "Python 3"
    },
    "language_info": {
      "name": "python"
    }
  },
  "cells": [
    {
      "cell_type": "markdown",
      "metadata": {
        "id": "view-in-github",
        "colab_type": "text"
      },
      "source": [
        "<a href=\"https://colab.research.google.com/github/danielhcg/NSF-CyberTraining/blob/main/assignment3.ipynb\" target=\"_parent\"><img src=\"https://colab.research.google.com/assets/colab-badge.svg\" alt=\"Open In Colab\"/></a>"
      ]
    },
    {
      "cell_type": "code",
      "source": [
        "# Import necessary libraries\n",
        "import pandas as pd\n",
        "import numpy as np\n",
        "from sklearn.preprocessing import LabelEncoder, OneHotEncoder, StandardScaler\n",
        "from keras.utils import to_categorical\n",
        "import matplotlib.pyplot as plt\n",
        "from tensorflow.keras.models import Sequential\n",
        "from tensorflow.keras.layers import LSTM, Dense, Dropout, Activation\n",
        "from tensorflow.keras.callbacks import EarlyStopping\n",
        "from keras.optimizers import SGD\n",
        "\n",
        "from sklearn.feature_selection import SelectKBest, f_classif"
      ],
      "metadata": {
        "id": "16WH8PkwIUzo"
      },
      "execution_count": 2,
      "outputs": []
    },
    {
      "cell_type": "code",
      "source": [
        "# Load dataset\n",
        "df = pd.read_csv('./02-16-2018.csv')  # CSE-CIC-IDS 2018 (02-16-2018)"
      ],
      "metadata": {
        "colab": {
          "base_uri": "https://localhost:8080/"
        },
        "id": "_JTQBHUXIWqC",
        "outputId": "0f2bf8e4-e8bc-44da-ccb5-647ebdb993f7"
      },
      "execution_count": 3,
      "outputs": [
        {
          "output_type": "stream",
          "name": "stderr",
          "text": [
            "<ipython-input-3-2b4c369fb987>:2: DtypeWarning: Columns (0,1,3,4,5,6,7,8,9,10,11,12,13,14,15,16,17,18,19,20,21,22,23,24,25,26,27,28,29,30,31,32,33,34,35,36,37,38,39,40,41,42,43,44,45,46,47,48,49,50,51,52,53,54,55,56,57,58,59,60,61,62,63,64,65,66,67,68,69,70,71,72,73,74,75,76,77,78) have mixed types. Specify dtype option on import or set low_memory=False.\n",
            "  df = pd.read_csv('./02-16-2018.csv')  # CSE-CIC-IDS 2018 (02-16-2018)\n"
          ]
        }
      ]
    },
    {
      "cell_type": "code",
      "source": [
        "cols = df.columns\n",
        "cols = cols.map(lambda x: x.replace(' ', '_'))\n",
        "df.columns = cols\n",
        "print(df.head())"
      ],
      "metadata": {
        "colab": {
          "base_uri": "https://localhost:8080/"
        },
        "id": "-A2QdQ0ZIaTX",
        "outputId": "85d55b7e-09e3-4e8c-8087-8a3575e92c73"
      },
      "execution_count": 4,
      "outputs": [
        {
          "output_type": "stream",
          "name": "stdout",
          "text": [
            "  Dst_Port Protocol            Timestamp Flow_Duration Tot_Fwd_Pkts  \\\n",
            "0        0        0  16/02/2018 08:27:23     112640768            3   \n",
            "1        0        0  16/02/2018 08:30:12     112641773            3   \n",
            "2    35605        6  16/02/2018 08:26:55      20784143           23   \n",
            "3        0        0  16/02/2018 08:33:01     112640836            3   \n",
            "4       23        6  16/02/2018 08:27:59            20            1   \n",
            "\n",
            "  Tot_Bwd_Pkts TotLen_Fwd_Pkts TotLen_Bwd_Pkts Fwd_Pkt_Len_Max  \\\n",
            "0            0               0               0               0   \n",
            "1            0               0               0               0   \n",
            "2           44            2416            1344             240   \n",
            "3            0               0               0               0   \n",
            "4            1               0               0               0   \n",
            "\n",
            "  Fwd_Pkt_Len_Min  ... Fwd_Seg_Size_Min Active_Mean Active_Std Active_Max  \\\n",
            "0               0  ...                0           0        0.0          0   \n",
            "1               0  ...                0           0        0.0          0   \n",
            "2              64  ...               20     2624734        0.0    2624734   \n",
            "3               0  ...                0           0        0.0          0   \n",
            "4               0  ...               20           0        0.0          0   \n",
            "\n",
            "  Active_Min   Idle_Mean    Idle_Std  Idle_Max  Idle_Min   Label  \n",
            "0          0  56300000.0  138.592929  56300000  56300000  Benign  \n",
            "1          0  56300000.0  263.750829  56300000  56300000  Benign  \n",
            "2    2624734   9058214.0         0.0   9058214   9058214  Benign  \n",
            "3          0  56300000.0   82.024387  56300000  56300000  Benign  \n",
            "4          0         0.0         0.0         0         0  Benign  \n",
            "\n",
            "[5 rows x 80 columns]\n"
          ]
        }
      ]
    },
    {
      "cell_type": "code",
      "source": [
        "#replace infinit number\n",
        "df=df.replace([np.inf, -np.inf], np.nan).dropna(axis=1)\n",
        "\n",
        "#drop null\n",
        "df.dropna(how='all')\n",
        "print('Data type of each column of Dataframe :')\n",
        "df.info(verbose=True)\n",
        "df = df.sort_values('Timestamp')\n",
        "df.drop(df.tail(1).index, inplace=True)\n",
        "df = df.reset_index(drop=True)\n",
        "df = df.drop(columns=['Timestamp', 'Dst_Port', 'Protocol'])\n",
        "print(df['Label'].value_counts())"
      ],
      "metadata": {
        "colab": {
          "base_uri": "https://localhost:8080/"
        },
        "id": "0VnYmOiUIdvd",
        "outputId": "3e4b4b36-ce20-451f-ae3d-ffefda3e124b"
      },
      "execution_count": 5,
      "outputs": [
        {
          "output_type": "stream",
          "name": "stdout",
          "text": [
            "Data type of each column of Dataframe :\n",
            "<class 'pandas.core.frame.DataFrame'>\n",
            "RangeIndex: 1048575 entries, 0 to 1048574\n",
            "Data columns (total 80 columns):\n",
            " #   Column             Non-Null Count    Dtype \n",
            "---  ------             --------------    ----- \n",
            " 0   Dst_Port           1048575 non-null  object\n",
            " 1   Protocol           1048575 non-null  object\n",
            " 2   Timestamp          1048575 non-null  object\n",
            " 3   Flow_Duration      1048575 non-null  object\n",
            " 4   Tot_Fwd_Pkts       1048575 non-null  object\n",
            " 5   Tot_Bwd_Pkts       1048575 non-null  object\n",
            " 6   TotLen_Fwd_Pkts    1048575 non-null  object\n",
            " 7   TotLen_Bwd_Pkts    1048575 non-null  object\n",
            " 8   Fwd_Pkt_Len_Max    1048575 non-null  object\n",
            " 9   Fwd_Pkt_Len_Min    1048575 non-null  object\n",
            " 10  Fwd_Pkt_Len_Mean   1048575 non-null  object\n",
            " 11  Fwd_Pkt_Len_Std    1048575 non-null  object\n",
            " 12  Bwd_Pkt_Len_Max    1048575 non-null  object\n",
            " 13  Bwd_Pkt_Len_Min    1048575 non-null  object\n",
            " 14  Bwd_Pkt_Len_Mean   1048575 non-null  object\n",
            " 15  Bwd_Pkt_Len_Std    1048575 non-null  object\n",
            " 16  Flow_Byts/s        1048575 non-null  object\n",
            " 17  Flow_Pkts/s        1048575 non-null  object\n",
            " 18  Flow_IAT_Mean      1048575 non-null  object\n",
            " 19  Flow_IAT_Std       1048575 non-null  object\n",
            " 20  Flow_IAT_Max       1048575 non-null  object\n",
            " 21  Flow_IAT_Min       1048575 non-null  object\n",
            " 22  Fwd_IAT_Tot        1048575 non-null  object\n",
            " 23  Fwd_IAT_Mean       1048575 non-null  object\n",
            " 24  Fwd_IAT_Std        1048575 non-null  object\n",
            " 25  Fwd_IAT_Max        1048575 non-null  object\n",
            " 26  Fwd_IAT_Min        1048575 non-null  object\n",
            " 27  Bwd_IAT_Tot        1048575 non-null  object\n",
            " 28  Bwd_IAT_Mean       1048575 non-null  object\n",
            " 29  Bwd_IAT_Std        1048575 non-null  object\n",
            " 30  Bwd_IAT_Max        1048575 non-null  object\n",
            " 31  Bwd_IAT_Min        1048575 non-null  object\n",
            " 32  Fwd_PSH_Flags      1048575 non-null  object\n",
            " 33  Bwd_PSH_Flags      1048575 non-null  object\n",
            " 34  Fwd_URG_Flags      1048575 non-null  object\n",
            " 35  Bwd_URG_Flags      1048575 non-null  object\n",
            " 36  Fwd_Header_Len     1048575 non-null  object\n",
            " 37  Bwd_Header_Len     1048575 non-null  object\n",
            " 38  Fwd_Pkts/s         1048575 non-null  object\n",
            " 39  Bwd_Pkts/s         1048575 non-null  object\n",
            " 40  Pkt_Len_Min        1048575 non-null  object\n",
            " 41  Pkt_Len_Max        1048575 non-null  object\n",
            " 42  Pkt_Len_Mean       1048575 non-null  object\n",
            " 43  Pkt_Len_Std        1048575 non-null  object\n",
            " 44  Pkt_Len_Var        1048575 non-null  object\n",
            " 45  FIN_Flag_Cnt       1048575 non-null  object\n",
            " 46  SYN_Flag_Cnt       1048575 non-null  object\n",
            " 47  RST_Flag_Cnt       1048575 non-null  object\n",
            " 48  PSH_Flag_Cnt       1048575 non-null  object\n",
            " 49  ACK_Flag_Cnt       1048575 non-null  object\n",
            " 50  URG_Flag_Cnt       1048575 non-null  object\n",
            " 51  CWE_Flag_Count     1048575 non-null  object\n",
            " 52  ECE_Flag_Cnt       1048575 non-null  object\n",
            " 53  Down/Up_Ratio      1048575 non-null  object\n",
            " 54  Pkt_Size_Avg       1048575 non-null  object\n",
            " 55  Fwd_Seg_Size_Avg   1048575 non-null  object\n",
            " 56  Bwd_Seg_Size_Avg   1048575 non-null  object\n",
            " 57  Fwd_Byts/b_Avg     1048575 non-null  object\n",
            " 58  Fwd_Pkts/b_Avg     1048575 non-null  object\n",
            " 59  Fwd_Blk_Rate_Avg   1048575 non-null  object\n",
            " 60  Bwd_Byts/b_Avg     1048575 non-null  object\n",
            " 61  Bwd_Pkts/b_Avg     1048575 non-null  object\n",
            " 62  Bwd_Blk_Rate_Avg   1048575 non-null  object\n",
            " 63  Subflow_Fwd_Pkts   1048575 non-null  object\n",
            " 64  Subflow_Fwd_Byts   1048575 non-null  object\n",
            " 65  Subflow_Bwd_Pkts   1048575 non-null  object\n",
            " 66  Subflow_Bwd_Byts   1048575 non-null  object\n",
            " 67  Init_Fwd_Win_Byts  1048575 non-null  object\n",
            " 68  Init_Bwd_Win_Byts  1048575 non-null  object\n",
            " 69  Fwd_Act_Data_Pkts  1048575 non-null  object\n",
            " 70  Fwd_Seg_Size_Min   1048575 non-null  object\n",
            " 71  Active_Mean        1048575 non-null  object\n",
            " 72  Active_Std         1048575 non-null  object\n",
            " 73  Active_Max         1048575 non-null  object\n",
            " 74  Active_Min         1048575 non-null  object\n",
            " 75  Idle_Mean          1048575 non-null  object\n",
            " 76  Idle_Std           1048575 non-null  object\n",
            " 77  Idle_Max           1048575 non-null  object\n",
            " 78  Idle_Min           1048575 non-null  object\n",
            " 79  Label              1048575 non-null  object\n",
            "dtypes: object(80)\n",
            "memory usage: 640.0+ MB\n",
            "Label\n",
            "DoS attacks-Hulk            461912\n",
            "Benign                      446772\n",
            "DoS attacks-SlowHTTPTest    139890\n",
            "Name: count, dtype: int64\n"
          ]
        }
      ]
    },
    {
      "cell_type": "code",
      "source": [
        "df.drop(df.loc[df['Label'] == 'DoS attacks-SlowHTTPTest'].index, inplace=True)"
      ],
      "metadata": {
        "id": "w5wyTEY7IgCE"
      },
      "execution_count": 6,
      "outputs": []
    },
    {
      "cell_type": "code",
      "source": [
        "df.Label[df.Label == 'Benign'] = 0\n",
        "df.Label[df.Label == 'DoS attacks-Hulk'] = 1\n",
        "df[\"Label\"] = df[\"Label\"].astype('Int64')\n",
        "print(df['Label'].value_counts())"
      ],
      "metadata": {
        "colab": {
          "base_uri": "https://localhost:8080/"
        },
        "id": "KdacXpv3Ihbj",
        "outputId": "36a2a52b-926e-4548-c2ad-b981f92f1fef"
      },
      "execution_count": 7,
      "outputs": [
        {
          "output_type": "stream",
          "name": "stdout",
          "text": [
            "Label\n",
            "1    461912\n",
            "0    446772\n",
            "Name: count, dtype: Int64\n"
          ]
        }
      ]
    },
    {
      "cell_type": "code",
      "source": [
        "#Prepare data for feature selection\n",
        "train_df = df.copy() # Use .iloc to avoid a SettingWithCopyWarning\n",
        "y = train_df.loc[0:52147,'Label'].astype('Int64')\n",
        "X = train_df.drop(columns=['Label']).astype(np.float64)\n",
        "X = X.loc[0:52147,:]"
      ],
      "metadata": {
        "id": "CkCxajOZIi07"
      },
      "execution_count": 8,
      "outputs": []
    },
    {
      "cell_type": "code",
      "source": [
        "print(X.head(5))\n",
        "print(y.value_counts())"
      ],
      "metadata": {
        "colab": {
          "base_uri": "https://localhost:8080/"
        },
        "id": "KVUng1dFIkZB",
        "outputId": "2c735a14-4e0a-48fd-bfb4-64e992a23d2b"
      },
      "execution_count": 9,
      "outputs": [
        {
          "output_type": "stream",
          "name": "stdout",
          "text": [
            "   Flow_Duration  Tot_Fwd_Pkts  Tot_Bwd_Pkts  TotLen_Fwd_Pkts  \\\n",
            "0    112640723.0           3.0           0.0              0.0   \n",
            "1      2146470.0          14.0          12.0           1335.0   \n",
            "2    112640737.0           3.0           0.0              0.0   \n",
            "3          721.0           1.0           1.0            300.0   \n",
            "4    112640647.0           3.0           0.0              0.0   \n",
            "\n",
            "   TotLen_Bwd_Pkts  Fwd_Pkt_Len_Max  Fwd_Pkt_Len_Min  Fwd_Pkt_Len_Mean  \\\n",
            "0              0.0              0.0              0.0          0.000000   \n",
            "1           2273.0            744.0              0.0         95.357143   \n",
            "2              0.0              0.0              0.0          0.000000   \n",
            "3            329.0            300.0            300.0        300.000000   \n",
            "4              0.0              0.0              0.0          0.000000   \n",
            "\n",
            "   Fwd_Pkt_Len_Std  Bwd_Pkt_Len_Max  ...  Fwd_Act_Data_Pkts  Fwd_Seg_Size_Min  \\\n",
            "0         0.000000              0.0  ...                0.0               0.0   \n",
            "1       200.788295            976.0  ...                8.0              32.0   \n",
            "2         0.000000              0.0  ...                0.0               0.0   \n",
            "3         0.000000            329.0  ...                0.0               8.0   \n",
            "4         0.000000              0.0  ...                0.0               0.0   \n",
            "\n",
            "   Active_Mean  Active_Std  Active_Max  Active_Min   Idle_Mean    Idle_Std  \\\n",
            "0          0.0         0.0         0.0         0.0  56300000.0  101.116270   \n",
            "1          0.0         0.0         0.0         0.0         0.0    0.000000   \n",
            "2          0.0         0.0         0.0         0.0  56300000.0   17.677670   \n",
            "3          0.0         0.0         0.0         0.0         0.0    0.000000   \n",
            "4          0.0         0.0         0.0         0.0  56300000.0   58.689863   \n",
            "\n",
            "     Idle_Max    Idle_Min  \n",
            "0  56300000.0  56300000.0  \n",
            "1         0.0         0.0  \n",
            "2  56300000.0  56300000.0  \n",
            "3         0.0         0.0  \n",
            "4  56300000.0  56300000.0  \n",
            "\n",
            "[5 rows x 76 columns]\n",
            "Label\n",
            "1    33099\n",
            "0    19049\n",
            "Name: count, dtype: Int64\n"
          ]
        }
      ]
    },
    {
      "cell_type": "markdown",
      "source": [
        "#Feature Selection"
      ],
      "metadata": {
        "id": "EAU-o-P2K3se"
      }
    },
    {
      "cell_type": "code",
      "source": [
        "#Feature selection using SelectKBest\n",
        "selector = SelectKBest(f_classif, k=20)  # Select top 20 features\n",
        "X_new = selector.fit_transform(X, y)"
      ],
      "metadata": {
        "colab": {
          "base_uri": "https://localhost:8080/"
        },
        "id": "Os7RonhtIllL",
        "outputId": "02a65d49-a588-4e01-9e42-d167403abbf1"
      },
      "execution_count": 10,
      "outputs": [
        {
          "output_type": "stream",
          "name": "stderr",
          "text": [
            "/usr/local/lib/python3.10/dist-packages/sklearn/feature_selection/_univariate_selection.py:112: UserWarning: Features [30 31 32 42 44 48 49 54 55 56 57 58 59] are constant.\n",
            "  warnings.warn(\"Features %s are constant.\" % constant_features_idx, UserWarning)\n",
            "/usr/local/lib/python3.10/dist-packages/sklearn/feature_selection/_univariate_selection.py:113: RuntimeWarning: invalid value encountered in divide\n",
            "  f = msb / msw\n"
          ]
        }
      ]
    },
    {
      "cell_type": "code",
      "source": [
        "#Get the selected feature names\n",
        "selected_features = X.columns[selector.get_support()]\n",
        "print(f'Selected features: {selected_features}')"
      ],
      "metadata": {
        "colab": {
          "base_uri": "https://localhost:8080/"
        },
        "id": "PqyHsNEPIokt",
        "outputId": "c8b0ee72-2243-4df3-a25f-ee5deb2ab6a7"
      },
      "execution_count": 11,
      "outputs": [
        {
          "output_type": "stream",
          "name": "stdout",
          "text": [
            "Selected features: Index(['Tot_Fwd_Pkts', 'TotLen_Fwd_Pkts', 'Fwd_Pkt_Len_Max',\n",
            "       'Fwd_Pkt_Len_Mean', 'Fwd_Pkt_Len_Std', 'Flow_IAT_Std', 'Flow_IAT_Max',\n",
            "       'Fwd_IAT_Tot', 'Fwd_IAT_Std', 'Fwd_IAT_Max', 'Fwd_Header_Len',\n",
            "       'Pkt_Len_Max', 'Pkt_Len_Std', 'Fwd_Seg_Size_Avg', 'Subflow_Fwd_Pkts',\n",
            "       'Subflow_Fwd_Byts', 'Fwd_Act_Data_Pkts', 'Idle_Mean', 'Idle_Max',\n",
            "       'Idle_Min'],\n",
            "      dtype='object')\n"
          ]
        }
      ]
    },
    {
      "cell_type": "code",
      "source": [
        "#Normalize selected features\n",
        "scaler = StandardScaler()\n",
        "X_scaled = scaler.fit_transform(X_new)"
      ],
      "metadata": {
        "id": "8uPS8gFRIp5w"
      },
      "execution_count": 12,
      "outputs": []
    },
    {
      "cell_type": "markdown",
      "source": [
        "#_"
      ],
      "metadata": {
        "id": "8Hrz3n_4LFLX"
      }
    },
    {
      "cell_type": "code",
      "source": [
        "# Define sequence length and overlap\n",
        "seq_length = 10  # Sequence length\n",
        "seq_overlap = 5  # Overlap between sequences"
      ],
      "metadata": {
        "id": "jpnJqFyLIsKz"
      },
      "execution_count": 13,
      "outputs": []
    },
    {
      "cell_type": "code",
      "source": [
        "def generate_sequences(X, y):\n",
        "    X_seqs = []\n",
        "    y_seqs = []\n",
        "    for i in range(0, len(X) - seq_length + 1, seq_overlap):\n",
        "        X_seqs.append(X.iloc[i:i+seq_length, :].to_numpy())\n",
        "        y_seqs.append(y.iloc[i+seq_length+1])\n",
        "    return np.array(X_seqs), np.array(y_seqs)"
      ],
      "metadata": {
        "id": "WFeO89NdIuB-"
      },
      "execution_count": 14,
      "outputs": []
    },
    {
      "cell_type": "code",
      "source": [
        "X_seqs, y_seqs = generate_sequences(pd.DataFrame(X_scaled), y)"
      ],
      "metadata": {
        "id": "nl8yPa8tIvdR"
      },
      "execution_count": 15,
      "outputs": []
    },
    {
      "cell_type": "code",
      "source": [
        "# split dataset\n",
        "l = len(X_seqs)\n",
        "train_size = int(0.8 * l)\n",
        "val_size = int(0.1 * l)\n",
        "test_size = l - train_size - val_size\n",
        "train_X = X_seqs[:train_size,:]\n",
        "train_y = y_seqs[:train_size]\n",
        "val_X = X_seqs[train_size:train_size+val_size,:]\n",
        "val_y = y_seqs[train_size:train_size+val_size]\n",
        "test_X = X_seqs[train_size+val_size:,:]\n",
        "test_y = y_seqs[train_size+val_size:]"
      ],
      "metadata": {
        "id": "ukyx9qHTIxYc"
      },
      "execution_count": 16,
      "outputs": []
    },
    {
      "cell_type": "code",
      "source": [
        "normal_indices = [i for i, x in enumerate(train_y) if x == 0]\n",
        "abnormal_indices = [i for i, x in enumerate(train_y) if x == 1]\n",
        "\n",
        "print('normal counts in training set: ', len(normal_indices))\n",
        "print('abnormal counts in training set: ', len(abnormal_indices))\n",
        "print('\\n')\n",
        "normal_indices = [i for i, x in enumerate(val_y) if x == 0]\n",
        "abnormal_indices = [i for i, x in enumerate(val_y) if x == 1]\n",
        "\n",
        "print('normal counts in validation set: ', len(normal_indices))\n",
        "print('abnormal counts in validation set: ', len(abnormal_indices))\n",
        "print('\\n')\n",
        "normal_indices = [i for i, x in enumerate(test_y) if x == 0]\n",
        "abnormal_indices = [i for i, x in enumerate(test_y) if x == 1]\n",
        "\n",
        "print('normal counts in test set: ', len(normal_indices))\n",
        "print('abnormal counts in test set: ', len(abnormal_indices))\n"
      ],
      "metadata": {
        "colab": {
          "base_uri": "https://localhost:8080/"
        },
        "id": "1s67SM5JNFFe",
        "outputId": "aebc62e4-3359-4b46-aef5-07e85f897612"
      },
      "execution_count": 26,
      "outputs": [
        {
          "output_type": "stream",
          "name": "stdout",
          "text": [
            "normal counts in training set:  2749\n",
            "abnormal counts in training set:  2749\n",
            "\n",
            "\n",
            "normal counts in validation set:  517\n",
            "abnormal counts in validation set:  517\n",
            "\n",
            "\n",
            "normal counts in test set:  515\n",
            "abnormal counts in test set:  515\n"
          ]
        }
      ]
    },
    {
      "cell_type": "code",
      "source": [
        "import random\n",
        "\n",
        "def sample_even_distribution(X_seqs, y_label):\n",
        "    normal_indices = [i for i, x in enumerate(y_label) if x == 0]\n",
        "    abnormal_indices = [i for i, x in enumerate(y_label) if x == 1]\n",
        "\n",
        "    min_samples = min(len(normal_indices), len(abnormal_indices))\n",
        "\n",
        "    sampled_indices = []\n",
        "    for i in range(min_samples):\n",
        "        sampled_indices.append(normal_indices[i])\n",
        "        sampled_indices.append(abnormal_indices[i])\n",
        "\n",
        "    np.random.shuffle(sampled_indices)\n",
        "\n",
        "    X = [X_seqs[i] for i in sampled_indices]\n",
        "    y = [y_label[i] for i in sampled_indices]\n",
        "\n",
        "    return np.array(X), np.array(y)"
      ],
      "metadata": {
        "id": "mEmccZepIzhi"
      },
      "execution_count": 17,
      "outputs": []
    },
    {
      "cell_type": "code",
      "source": [
        "train_X, train_y = sample_even_distribution(train_X, train_y)\n",
        "val_X, val_y = sample_even_distribution(val_X, val_y)\n",
        "test_X, test_y = sample_even_distribution(test_X, test_y)"
      ],
      "metadata": {
        "id": "FrNHuLpII19s"
      },
      "execution_count": 18,
      "outputs": []
    },
    {
      "cell_type": "code",
      "source": [
        "#Define model architecture with ReLU activation function\n",
        "model = Sequential()\n",
        "\n",
        "model.add(LSTM(units=64, input_shape=(seq_length, X_new.shape[1]), return_sequences=True))\n",
        "model.add(LSTM(units=32, return_sequences=False))\n",
        "model.add(Dropout(0.2))\n",
        "\n",
        "model.add(Activation('relu'))\n",
        "model.add(Dense(units=1, activation='sigmoid'))"
      ],
      "metadata": {
        "id": "O6MxPegdI3T3"
      },
      "execution_count": 19,
      "outputs": []
    },
    {
      "cell_type": "code",
      "source": [
        "# Compile model with adam optimizer\n",
        "model.compile(optimizer='adam', loss='binary_crossentropy', metrics=['accuracy'])"
      ],
      "metadata": {
        "id": "BI6l-QEtI6Pd"
      },
      "execution_count": 20,
      "outputs": []
    },
    {
      "cell_type": "code",
      "source": [
        "print(train_X.shape, train_y.shape, val_X.shape, val_y.shape)\n",
        "model.summary()"
      ],
      "metadata": {
        "colab": {
          "base_uri": "https://localhost:8080/"
        },
        "id": "zZnROZSfI7fe",
        "outputId": "5395b6c7-7f5d-44a3-f846-9b7493749283"
      },
      "execution_count": 21,
      "outputs": [
        {
          "output_type": "stream",
          "name": "stdout",
          "text": [
            "(5498, 10, 20) (5498,) (1034, 10, 20) (1034,)\n",
            "Model: \"sequential\"\n",
            "_________________________________________________________________\n",
            " Layer (type)                Output Shape              Param #   \n",
            "=================================================================\n",
            " lstm (LSTM)                 (None, 10, 64)            21760     \n",
            "                                                                 \n",
            " lstm_1 (LSTM)               (None, 32)                12416     \n",
            "                                                                 \n",
            " dropout (Dropout)           (None, 32)                0         \n",
            "                                                                 \n",
            " activation (Activation)     (None, 32)                0         \n",
            "                                                                 \n",
            " dense (Dense)               (None, 1)                 33        \n",
            "                                                                 \n",
            "=================================================================\n",
            "Total params: 34209 (133.63 KB)\n",
            "Trainable params: 34209 (133.63 KB)\n",
            "Non-trainable params: 0 (0.00 Byte)\n",
            "_________________________________________________________________\n"
          ]
        }
      ]
    },
    {
      "cell_type": "code",
      "source": [
        "# Train model\n",
        "early_stop = EarlyStopping(monitor='val_loss', patience=10, verbose=1)\n",
        "history = model.fit(train_X, train_y, epochs=100, batch_size=16, validation_data=(val_X, val_y), callbacks=[early_stop])"
      ],
      "metadata": {
        "colab": {
          "base_uri": "https://localhost:8080/"
        },
        "id": "mJMDi7bvI82c",
        "outputId": "66ecd990-5896-4b00-f8d2-7257f2c252fe"
      },
      "execution_count": 22,
      "outputs": [
        {
          "output_type": "stream",
          "name": "stdout",
          "text": [
            "Epoch 1/100\n",
            "344/344 [==============================] - 12s 14ms/step - loss: 0.1659 - accuracy: 0.9576 - val_loss: 1.0369 - val_accuracy: 0.6335\n",
            "Epoch 2/100\n",
            "344/344 [==============================] - 4s 12ms/step - loss: 0.1291 - accuracy: 0.9651 - val_loss: 0.9248 - val_accuracy: 0.6228\n",
            "Epoch 3/100\n",
            "344/344 [==============================] - 7s 21ms/step - loss: 0.1240 - accuracy: 0.9640 - val_loss: 0.9046 - val_accuracy: 0.6209\n",
            "Epoch 4/100\n",
            "344/344 [==============================] - 7s 20ms/step - loss: 0.1213 - accuracy: 0.9645 - val_loss: 1.1992 - val_accuracy: 0.6151\n",
            "Epoch 5/100\n",
            "344/344 [==============================] - 4s 11ms/step - loss: 0.1185 - accuracy: 0.9654 - val_loss: 1.1669 - val_accuracy: 0.6054\n",
            "Epoch 6/100\n",
            "344/344 [==============================] - 5s 14ms/step - loss: 0.1159 - accuracy: 0.9654 - val_loss: 0.9494 - val_accuracy: 0.6257\n",
            "Epoch 7/100\n",
            "344/344 [==============================] - 5s 14ms/step - loss: 0.1161 - accuracy: 0.9649 - val_loss: 1.0684 - val_accuracy: 0.5977\n",
            "Epoch 8/100\n",
            "344/344 [==============================] - 4s 11ms/step - loss: 0.1106 - accuracy: 0.9665 - val_loss: 1.0075 - val_accuracy: 0.6035\n",
            "Epoch 9/100\n",
            "344/344 [==============================] - 4s 11ms/step - loss: 0.1099 - accuracy: 0.9671 - val_loss: 1.0766 - val_accuracy: 0.5996\n",
            "Epoch 10/100\n",
            "344/344 [==============================] - 6s 17ms/step - loss: 0.1086 - accuracy: 0.9674 - val_loss: 1.0186 - val_accuracy: 0.6006\n",
            "Epoch 11/100\n",
            "344/344 [==============================] - 4s 11ms/step - loss: 0.1053 - accuracy: 0.9696 - val_loss: 1.2310 - val_accuracy: 0.6006\n",
            "Epoch 12/100\n",
            "344/344 [==============================] - 4s 11ms/step - loss: 0.1050 - accuracy: 0.9689 - val_loss: 1.0492 - val_accuracy: 0.6006\n",
            "Epoch 13/100\n",
            "344/344 [==============================] - 4s 13ms/step - loss: 0.1046 - accuracy: 0.9698 - val_loss: 1.0999 - val_accuracy: 0.5986\n",
            "Epoch 13: early stopping\n"
          ]
        }
      ]
    },
    {
      "cell_type": "code",
      "source": [
        "# Evaluate model\n",
        "predictions = model.predict(test_X)\n",
        "binary_predictions = (predictions > 0.5).astype(int)"
      ],
      "metadata": {
        "colab": {
          "base_uri": "https://localhost:8080/"
        },
        "id": "hCq_tZdfI-DS",
        "outputId": "47fc015a-9188-4c25-b0c4-f1f395847948"
      },
      "execution_count": 23,
      "outputs": [
        {
          "output_type": "stream",
          "name": "stdout",
          "text": [
            "33/33 [==============================] - 1s 6ms/step\n"
          ]
        }
      ]
    },
    {
      "cell_type": "code",
      "source": [
        "# Test model\n",
        "from sklearn.metrics import accuracy_score\n",
        "tp = tn = fp = fn = 0\n",
        "predictn = predictions.flatten().round().tolist()\n",
        "Y_testn = test_y.tolist()\n",
        "for i in range(len(Y_testn)):\n",
        "    if predictn[i] == 1 and Y_testn[i] == 1:\n",
        "        tp += 1\n",
        "    elif predictn[i] == 0 and Y_testn[i] == 0:\n",
        "        tn += 1\n",
        "    elif predictn[i] == 0 and Y_testn[i] == 1:\n",
        "        fp += 1\n",
        "    elif predictn[i] == 1 and Y_testn[i] == 0:\n",
        "        fn += 1"
      ],
      "metadata": {
        "id": "Nd7RymkfJBhY"
      },
      "execution_count": 24,
      "outputs": []
    },
    {
      "cell_type": "code",
      "execution_count": 25,
      "metadata": {
        "colab": {
          "base_uri": "https://localhost:8080/"
        },
        "id": "PYB7DVrwEFYG",
        "outputId": "a2847e61-4444-4836-9d4d-f6dc9fefeed9"
      },
      "outputs": [
        {
          "output_type": "stream",
          "name": "stdout",
          "text": [
            "tpr 0.9958419958419958\n",
            "fnr 0.004158004158004158\n",
            "tnr 0.9344262295081968\n",
            "fpr 0.06557377049180328\n",
            "accuracy: 96.31%\n",
            "Accuracy: 96.31%\n"
          ]
        }
      ],
      "source": [
        "tpr = tp / (tp + fn)\n",
        "fnr = fn / (tp + fn)\n",
        "tnr = tn / (tn + fp)\n",
        "fpr = fp / (tn + fp)\n",
        "print('tpr', tpr)\n",
        "print('fnr', fnr)\n",
        "print('tnr', tnr)\n",
        "print('fpr', fpr)\n",
        "scores = model.evaluate(test_X, test_y, verbose=0)\n",
        "print(\"%s: %.2f%%\" % (model.metrics_names[1], scores[1]*100))\n",
        "\n",
        "accuracy = accuracy_score(test_y, binary_predictions)\n",
        "print(f'Accuracy: {accuracy * 100:.2f}%')"
      ]
    }
  ]
}